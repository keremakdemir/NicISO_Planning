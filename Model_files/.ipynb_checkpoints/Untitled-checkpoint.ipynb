{
 "cells": [
  {
   "cell_type": "code",
   "execution_count": 4,
   "id": "399ce9c8-69fc-4784-9cd7-51ddf5bcd539",
   "metadata": {},
   "outputs": [],
   "source": [
    "#Importing necessary packages\n",
    "import pandas as pd\n",
    "import numpy as np"
   ]
  },
  {
   "cell_type": "code",
   "execution_count": 27,
   "id": "77424503-df03-4e6a-a85d-74eafefebfb4",
   "metadata": {},
   "outputs": [],
   "source": [
    "#Reading solar generation file\n",
    "Solar_generation = pd.read_excel('../Data/NicISO_PV_hourly_production_forecast_current_solar.xlsx',header=2)\n",
    "\n",
    "#Defining relevant parameters\n",
    "seasons = ['Winter','Spring','Summer','Fall']\n",
    "hour_type = ['Peak','Offpeak']\n",
    "demand_type = ['Average','Maximum']\n",
    "Peak_hours = [7,8,9,10,11,12,13,14,15,16,17,18,19,20,21,22]\n",
    "Offpeak_hours = [23,24,1,2,3,4,5,6]\n",
    "Winter_days = [*range(1,80)] + [*range(355,366)]\n",
    "Spring_days = [*range(80,172)]\n",
    "Summer_days = [*range(172,264)]\n",
    "Fall_days = [*range(264,355)]\n",
    "\n",
    "#Defining all cases\n",
    "All_cases = []\n",
    "for S in seasons:\n",
    "    for H in hour_type:\n",
    "        for D in demand_type:\n",
    "            Case_name = '{}_{}_{}'.format(S,H,D)\n",
    "            All_cases.append(Case_name)\n",
    "\n",
    "#Creating an empty array to store data\n",
    "All_solar_gen = pd.DataFrame(np.zeros((1,len(All_cases))),columns=All_cases) \n",
    "\n",
    "#Finding average solar generation in current solar farms with respect to season and hours\n",
    "for S in seasons:\n",
    "    for H in hour_type:\n",
    "        for D in demand_type:\n",
    "            Case_name = '{}_{}_{}'.format(S,H,D)\n",
    "            All_cases.append(Case_name)\n",
    "            \n",
    "            seasonal_solar = Solar_generation.loc[Solar_generation['Day'].isin(globals()['{}_days'.format(S)])].copy()\n",
    "            filtered_solar = seasonal_solar.loc[seasonal_solar['Hour'].isin(globals()['{}_hours'.format(H)])].copy()\n",
    "            Average_generation = filtered_solar.loc[:,'Actual PV production (MWh)'].mean()\n",
    "            All_solar_gen.loc[:,Case_name] = Average_generation\n",
    "            \n",
    "            \n",
    "#Exporting the data\n",
    "All_solar_gen.to_excel('../Data/Current_solar_generation_cases.xlsx', sheet_name='Solar_gen', index=False)"
   ]
  },
  {
   "cell_type": "code",
   "execution_count": null,
   "id": "f5484748-6452-47eb-af10-fa38436f8aee",
   "metadata": {},
   "outputs": [],
   "source": []
  },
  {
   "cell_type": "code",
   "execution_count": null,
   "id": "cef0f693-afb0-4bd7-bb20-c888391a81d8",
   "metadata": {},
   "outputs": [],
   "source": []
  },
  {
   "cell_type": "code",
   "execution_count": null,
   "id": "9fedd85c-2fd4-4281-bab9-7d75c7bccba9",
   "metadata": {},
   "outputs": [],
   "source": []
  },
  {
   "cell_type": "code",
   "execution_count": null,
   "id": "147d84e6-4962-4956-8b35-d2b0900a486f",
   "metadata": {},
   "outputs": [],
   "source": []
  }
 ],
 "metadata": {
  "kernelspec": {
   "display_name": "Python 3 (ipykernel)",
   "language": "python",
   "name": "python3"
  },
  "language_info": {
   "codemirror_mode": {
    "name": "ipython",
    "version": 3
   },
   "file_extension": ".py",
   "mimetype": "text/x-python",
   "name": "python",
   "nbconvert_exporter": "python",
   "pygments_lexer": "ipython3",
   "version": "3.9.11"
  }
 },
 "nbformat": 4,
 "nbformat_minor": 5
}
