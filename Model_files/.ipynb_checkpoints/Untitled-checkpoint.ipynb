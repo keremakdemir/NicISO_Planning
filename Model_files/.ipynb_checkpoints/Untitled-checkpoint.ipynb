{
 "cells": [
  {
   "cell_type": "code",
   "execution_count": 1,
   "id": "e44784f6-ed81-474f-ad27-a81bbdacb308",
   "metadata": {},
   "outputs": [],
   "source": [
    "#Importing necessary packages\n",
    "import pandas as pd\n",
    "import numpy as np\n",
    "from pyomo.environ import *\n",
    "\n",
    "#Defining solver\n",
    "opt = SolverFactory('cplex')"
   ]
  },
  {
   "cell_type": "code",
   "execution_count": 2,
   "id": "b8a4db51-adc9-4349-bedd-99412b1af2e4",
   "metadata": {},
   "outputs": [],
   "source": [
    "#Read necessary datasets\n",
    "dispatchable_gens_2022=pd.read_excel(\"../Data/Generators.xlsx\",sheet_name=\"Dispatchable_2022\",header=0) \n",
    "nuclear_gens_2022=pd.read_excel(\"../Data/Generators.xlsx\",sheet_name=\"Nuclear_2022\",header=0) \n",
    "load_2022=pd.read_excel(\"../Data/Load.xlsx\",sheet_name=\"Load_bus_2022\",header=0)\n",
    "lines_2022=pd.read_excel(\"../Data/Lines.xlsx\",sheet_name=\"Lines_2022\",header=0) \n",
    "\n",
    "#Defining demand parameters\n",
    "season = ['Winter','Spring','Summer','Fall']\n",
    "hour_type = ['Peak','Offpeak']\n",
    "load_type = ['Average','Maximum']\n",
    "\n",
    "#Determine set sizes\n",
    "NumGens=len(df_genData)\n",
    "NumBus=len(df_loadsData)\n",
    "NumLines=len(df_linesData)\n",
    "\n",
    "#Determine indexes\n",
    "G=np.array([*range(0,NumGens)]) \n",
    "N=np.array([*range(0,NumBus)])\n",
    "L=np.array([*range(0,NumLines)])"
   ]
  },
  {
   "cell_type": "code",
   "execution_count": null,
   "id": "f05a3361-18c5-432c-85d3-e6361d01bfc7",
   "metadata": {},
   "outputs": [],
   "source": []
  },
  {
   "cell_type": "code",
   "execution_count": null,
   "id": "f02d4700-ae26-4238-990e-14ff6f1178b5",
   "metadata": {},
   "outputs": [],
   "source": []
  },
  {
   "cell_type": "code",
   "execution_count": null,
   "id": "22607946-a2cf-438e-8992-7e127fb4c61f",
   "metadata": {},
   "outputs": [],
   "source": []
  },
  {
   "cell_type": "code",
   "execution_count": null,
   "id": "9ddae98f-f56f-41ad-bb90-1f134a59d224",
   "metadata": {},
   "outputs": [],
   "source": []
  },
  {
   "cell_type": "code",
   "execution_count": null,
   "id": "e39aedd1-09fc-4aed-9024-26192bee5503",
   "metadata": {},
   "outputs": [],
   "source": []
  },
  {
   "cell_type": "code",
   "execution_count": null,
   "id": "84a3a12d-162d-4c8a-9d6c-7ba1ff80875a",
   "metadata": {},
   "outputs": [],
   "source": []
  },
  {
   "cell_type": "code",
   "execution_count": null,
   "id": "16f00dfa-5a17-4166-9d95-38b421e344d3",
   "metadata": {},
   "outputs": [],
   "source": []
  },
  {
   "cell_type": "code",
   "execution_count": null,
   "id": "87f0f273-d7d9-4fea-8f3a-00982810701a",
   "metadata": {},
   "outputs": [],
   "source": []
  },
  {
   "cell_type": "code",
   "execution_count": null,
   "id": "d08bb779-377e-42c9-9c52-736bdcd3e90f",
   "metadata": {},
   "outputs": [],
   "source": []
  },
  {
   "cell_type": "code",
   "execution_count": null,
   "id": "43c7212e-8246-44f5-878a-21482ed3949f",
   "metadata": {},
   "outputs": [],
   "source": []
  },
  {
   "cell_type": "code",
   "execution_count": null,
   "id": "8392a08e-90ed-4b06-94c3-1b18a7fc7e4b",
   "metadata": {},
   "outputs": [],
   "source": []
  },
  {
   "cell_type": "code",
   "execution_count": null,
   "id": "8035f53e-47f6-4d48-b4f4-0782caa977fc",
   "metadata": {},
   "outputs": [],
   "source": []
  },
  {
   "cell_type": "code",
   "execution_count": null,
   "id": "7f5025f4-5aff-4e6d-94f9-073354c2590e",
   "metadata": {},
   "outputs": [],
   "source": []
  }
 ],
 "metadata": {
  "kernelspec": {
   "display_name": "Python 3 (ipykernel)",
   "language": "python",
   "name": "python3"
  },
  "language_info": {
   "codemirror_mode": {
    "name": "ipython",
    "version": 3
   },
   "file_extension": ".py",
   "mimetype": "text/x-python",
   "name": "python",
   "nbconvert_exporter": "python",
   "pygments_lexer": "ipython3",
   "version": "3.9.11"
  }
 },
 "nbformat": 4,
 "nbformat_minor": 5
}
