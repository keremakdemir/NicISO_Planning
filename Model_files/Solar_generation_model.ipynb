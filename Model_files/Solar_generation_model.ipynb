{
 "cells": [
  {
   "cell_type": "markdown",
   "id": "ac773f62-eece-4364-b589-0b9e16f30c75",
   "metadata": {},
   "source": [
    "***Finding average solar generation from current solar farms***<br>\n",
    "This portion of the script is used to find average solar generation for each of 16 cases from current solar farms."
   ]
  },
  {
   "cell_type": "code",
   "execution_count": 1,
   "id": "a578617f-be8e-42a9-83f7-1a281034e171",
   "metadata": {},
   "outputs": [],
   "source": [
    "#Importing necessary packages\n",
    "import pandas as pd\n",
    "import numpy as np"
   ]
  },
  {
   "cell_type": "code",
   "execution_count": 2,
   "id": "77424503-df03-4e6a-a85d-74eafefebfb4",
   "metadata": {},
   "outputs": [],
   "source": [
    "#Reading solar generation file\n",
    "Solar_generation = pd.read_excel('../Data/NicISO_PV_hourly_production_forecast_current_solar.xlsx',header=2)\n",
    "\n",
    "#Defining relevant parameters\n",
    "seasons = ['Winter','Spring','Summer','Fall']\n",
    "hour_type = ['Peak','Offpeak']\n",
    "demand_type = ['Average','Maximum']\n",
    "Peak_hours = [7,8,9,10,11,12,13,14,15,16,17,18,19,20,21,22]\n",
    "Offpeak_hours = [23,24,1,2,3,4,5,6]\n",
    "Winter_days = [*range(1,80)] + [*range(355,366)]\n",
    "Spring_days = [*range(80,172)]\n",
    "Summer_days = [*range(172,264)]\n",
    "Fall_days = [*range(264,355)]\n",
    "\n",
    "#Defining all cases\n",
    "All_cases = []\n",
    "for S in seasons:\n",
    "    for H in hour_type:\n",
    "        for D in demand_type:\n",
    "            Case_name = '{}_{}_{}'.format(S,H,D)\n",
    "            All_cases.append(Case_name)\n",
    "\n",
    "#Creating an empty array to store data\n",
    "All_solar_gen = pd.DataFrame(np.zeros((3,len(All_cases))),columns=All_cases) \n",
    "\n",
    "#Finding average solar generation in current solar farms for each case with respect to season and hours\n",
    "for S in seasons:\n",
    "    for H in hour_type:\n",
    "        for D in demand_type:\n",
    "            Case_name = '{}_{}_{}'.format(S,H,D)\n",
    "            \n",
    "            seasonal_solar = Solar_generation.loc[Solar_generation['Day'].isin(globals()['{}_days'.format(S)])].copy()\n",
    "            filtered_solar = seasonal_solar.loc[seasonal_solar['Hour'].isin(globals()['{}_hours'.format(H)])].copy()\n",
    "            Average_generation = filtered_solar.loc[:,'Actual PV production (MWh)'].mean()\n",
    "            All_solar_gen.loc[:,Case_name] = Average_generation\n",
    "            \n",
    "All_solar_gen = All_solar_gen/3\n",
    "All_solar_gen.insert(0, \"Bus\", [1,2,3])  \n",
    "#Exporting the data\n",
    "All_solar_gen.to_excel('../Data/Solar_generation_2023.xlsx', sheet_name='Solar_gen', index=False)"
   ]
  },
  {
   "cell_type": "markdown",
   "id": "b6e310df-4013-4af9-a082-2afe068b4930",
   "metadata": {},
   "source": [
    "***Finding average solar multipliers for future solar farms***<br>\n",
    "This portion of the script is used to find average solar multipliers for each of 16 cases for future solar farms."
   ]
  },
  {
   "cell_type": "code",
   "execution_count": 3,
   "id": "ee664810-a3aa-4209-ab93-e7761dfa2cfb",
   "metadata": {},
   "outputs": [],
   "source": [
    "#Reading solar multiplier file\n",
    "Solar_multiplier = pd.read_excel('../Data/NicISO_PV_hourly_production.xlsx',header=1)\n",
    "\n",
    "#Defining relevant parameters\n",
    "years=[*range(2011,2022)]\n",
    "\n",
    "#Organizing solar multiplier file\n",
    "Solar_multiplier['Average_Mult'] = Solar_multiplier.loc[:,years].mean(axis=1)\n",
    "\n",
    "#Creating an empty array to store data\n",
    "All_solar_mult = pd.DataFrame(np.zeros((3,len(All_cases))),columns=All_cases) \n",
    "\n",
    "#Finding solar capacity multipliers for each case with respect to season and hours\n",
    "for S in seasons:\n",
    "    for H in hour_type:\n",
    "        for D in demand_type:\n",
    "            Case_name = '{}_{}_{}'.format(S,H,D)\n",
    "            \n",
    "            seasonal_solar_mult = Solar_multiplier.loc[Solar_multiplier['Day'].isin(globals()['{}_days'.format(S)])].copy()\n",
    "            filtered_solar_mult = seasonal_solar_mult.loc[seasonal_solar_mult['Hour'].isin(globals()['{}_hours'.format(H)])].copy()\n",
    "            Average_mult_sp = filtered_solar_mult.loc[:,'Average_Mult'].mean()\n",
    "            All_solar_mult.loc[:,Case_name] = Average_mult_sp\n",
    "            \n",
    "All_solar_mult.insert(0, \"Bus\", [1,2,3])        \n",
    "#Exporting the data\n",
    "All_solar_mult.to_excel('../Data/Future_solar_multiplier_cases.xlsx', sheet_name='Solar_mult', index=False)"
   ]
  },
  {
   "cell_type": "code",
   "execution_count": null,
   "id": "8d596eb9-266d-4116-9a8a-3fa0cc8bdcfc",
   "metadata": {},
   "outputs": [],
   "source": []
  }
 ],
 "metadata": {
  "kernelspec": {
   "display_name": "Python 3 (ipykernel)",
   "language": "python",
   "name": "python3"
  },
  "language_info": {
   "codemirror_mode": {
    "name": "ipython",
    "version": 3
   },
   "file_extension": ".py",
   "mimetype": "text/x-python",
   "name": "python",
   "nbconvert_exporter": "python",
   "pygments_lexer": "ipython3",
   "version": "3.9.11"
  }
 },
 "nbformat": 4,
 "nbformat_minor": 5
}
